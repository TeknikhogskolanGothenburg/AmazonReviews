{
 "cells": [
  {
   "cell_type": "code",
   "execution_count": 2,
   "metadata": {
    "collapsed": true
   },
   "outputs": [],
   "source": [
    "import pandas as pd\n",
    "\n",
    "pets_df = pd.read_json('pet_supplies_100.json', lines=True)"
   ]
  },
  {
   "cell_type": "code",
   "execution_count": 3,
   "outputs": [
    {
     "data": {
      "text/plain": "       reviewerID        asin           reviewerName helpful  \\\n0  A14CK12J7C7JRK  1223000893     Consumer in NorCal  [0, 0]   \n1  A39QHP5WLON5HV  1223000893        Melodee Placial  [0, 0]   \n2  A2CR37UY3VR7BN  1223000893       Michelle Ashbery  [0, 0]   \n3  A2A4COGL9VW2HY  1223000893             Michelle P  [2, 2]   \n4  A2UBQA85NIGLHA  1223000893  Tim  Isenhour \"Timbo\"  [6, 7]   \n\n                                          reviewText  overall  \\\n0  I purchased the Trilogy with hoping my two cat...        3   \n1  There are usually one or more of my cats watch...        5   \n2  I bought the triliogy and have tested out all ...        4   \n3  My female kitty could care less about these vi...        4   \n4  If I had gotten just volume two, I would have ...        3   \n\n                                             summary  unixReviewTime  \\\n0  Nice Distraction for my cats for about 15 minutes      1294790400   \n1                           Entertaining for my cats      1379116800   \n2                                       Entertaining      1355875200   \n3                                 Happy to have them      1305158400   \n4                         You really only need vol 2      1330905600   \n\n    reviewTime  \n0  01 12, 2011  \n1  09 14, 2013  \n2  12 19, 2012  \n3  05 12, 2011  \n4   03 5, 2012  ",
      "text/html": "<div>\n<style scoped>\n    .dataframe tbody tr th:only-of-type {\n        vertical-align: middle;\n    }\n\n    .dataframe tbody tr th {\n        vertical-align: top;\n    }\n\n    .dataframe thead th {\n        text-align: right;\n    }\n</style>\n<table border=\"1\" class=\"dataframe\">\n  <thead>\n    <tr style=\"text-align: right;\">\n      <th></th>\n      <th>reviewerID</th>\n      <th>asin</th>\n      <th>reviewerName</th>\n      <th>helpful</th>\n      <th>reviewText</th>\n      <th>overall</th>\n      <th>summary</th>\n      <th>unixReviewTime</th>\n      <th>reviewTime</th>\n    </tr>\n  </thead>\n  <tbody>\n    <tr>\n      <th>0</th>\n      <td>A14CK12J7C7JRK</td>\n      <td>1223000893</td>\n      <td>Consumer in NorCal</td>\n      <td>[0, 0]</td>\n      <td>I purchased the Trilogy with hoping my two cat...</td>\n      <td>3</td>\n      <td>Nice Distraction for my cats for about 15 minutes</td>\n      <td>1294790400</td>\n      <td>01 12, 2011</td>\n    </tr>\n    <tr>\n      <th>1</th>\n      <td>A39QHP5WLON5HV</td>\n      <td>1223000893</td>\n      <td>Melodee Placial</td>\n      <td>[0, 0]</td>\n      <td>There are usually one or more of my cats watch...</td>\n      <td>5</td>\n      <td>Entertaining for my cats</td>\n      <td>1379116800</td>\n      <td>09 14, 2013</td>\n    </tr>\n    <tr>\n      <th>2</th>\n      <td>A2CR37UY3VR7BN</td>\n      <td>1223000893</td>\n      <td>Michelle Ashbery</td>\n      <td>[0, 0]</td>\n      <td>I bought the triliogy and have tested out all ...</td>\n      <td>4</td>\n      <td>Entertaining</td>\n      <td>1355875200</td>\n      <td>12 19, 2012</td>\n    </tr>\n    <tr>\n      <th>3</th>\n      <td>A2A4COGL9VW2HY</td>\n      <td>1223000893</td>\n      <td>Michelle P</td>\n      <td>[2, 2]</td>\n      <td>My female kitty could care less about these vi...</td>\n      <td>4</td>\n      <td>Happy to have them</td>\n      <td>1305158400</td>\n      <td>05 12, 2011</td>\n    </tr>\n    <tr>\n      <th>4</th>\n      <td>A2UBQA85NIGLHA</td>\n      <td>1223000893</td>\n      <td>Tim  Isenhour \"Timbo\"</td>\n      <td>[6, 7]</td>\n      <td>If I had gotten just volume two, I would have ...</td>\n      <td>3</td>\n      <td>You really only need vol 2</td>\n      <td>1330905600</td>\n      <td>03 5, 2012</td>\n    </tr>\n  </tbody>\n</table>\n</div>"
     },
     "execution_count": 3,
     "metadata": {},
     "output_type": "execute_result"
    }
   ],
   "source": [
    "pets_df.head()"
   ],
   "metadata": {
    "collapsed": false,
    "pycharm": {
     "name": "#%%\n"
    }
   }
  },
  {
   "cell_type": "code",
   "execution_count": 4,
   "outputs": [
    {
     "data": {
      "text/plain": "5    29\n4    26\n1    20\n3    16\n2     9\nName: overall, dtype: int64"
     },
     "execution_count": 4,
     "metadata": {},
     "output_type": "execute_result"
    }
   ],
   "source": [
    "pd.value_counts(pets_df['overall'])"
   ],
   "metadata": {
    "collapsed": false,
    "pycharm": {
     "name": "#%%\n"
    }
   }
  },
  {
   "cell_type": "code",
   "execution_count": 5,
   "outputs": [],
   "source": [
    "class Review:\n",
    "    def __init__(self, text, score):\n",
    "        self.text = text\n",
    "        self.score = score\n",
    "        self.sentiment = \"NEGATIVE\" if score <= 2 else \"NEUTRAL\" if score <= 3 else \"POSITIVE\""
   ],
   "metadata": {
    "collapsed": false,
    "pycharm": {
     "name": "#%%\n"
    }
   }
  },
  {
   "cell_type": "code",
   "execution_count": 6,
   "outputs": [],
   "source": [
    "import contractions\n",
    "import string\n",
    "import re\n",
    "\n",
    "\n",
    "def clean_text(text):\n",
    "    text = contractions.fix(text)\n",
    "    text = text.lower()\n",
    "    text = re.sub('[%s]' % re.escape(string.punctuation), '', text)\n",
    "    text = re.sub(r'\\w*\\d\\w*', '', text)\n",
    "    stopwords = [word.strip() for word in open('stopwords_en.txt')]\n",
    "    text = ' '.join([word for word in text.split() if word not in stopwords])\n",
    "    return text"
   ],
   "metadata": {
    "collapsed": false,
    "pycharm": {
     "name": "#%%\n"
    }
   }
  },
  {
   "cell_type": "code",
   "execution_count": 37,
   "outputs": [],
   "source": [
    "import json\n",
    "\n",
    "reviews = []\n",
    "\n",
    "with open('pet_supplies_10000.json', 'r') as in_file:\n",
    "    for line in in_file:\n",
    "        data = json.loads(line)\n",
    "        text = data['reviewText']\n",
    "        score = data['overall']\n",
    "        text = clean_text(text)\n",
    "        reviews.append(Review(text, score))"
   ],
   "metadata": {
    "collapsed": false,
    "pycharm": {
     "name": "#%%\n"
    }
   }
  },
  {
   "cell_type": "code",
   "execution_count": 8,
   "outputs": [
    {
     "data": {
      "text/plain": "'purchased trilogy hoping two cats age would interested yr old cat fascinated minutes pictures came got bored year old watched minutes walked away possible wonderful courtyard full greenery trees one neighbors bird feeder enough going outside prefer real life versus taped version likely pass friend cats much wildlife watch mine'"
     },
     "execution_count": 8,
     "metadata": {},
     "output_type": "execute_result"
    }
   ],
   "source": [
    "reviews[0].text"
   ],
   "metadata": {
    "collapsed": false,
    "pycharm": {
     "name": "#%%\n"
    }
   }
  },
  {
   "cell_type": "code",
   "execution_count": 9,
   "outputs": [
    {
     "data": {
      "text/plain": "'NEUTRAL'"
     },
     "execution_count": 9,
     "metadata": {},
     "output_type": "execute_result"
    }
   ],
   "source": [
    "reviews[0].sentiment"
   ],
   "metadata": {
    "collapsed": false,
    "pycharm": {
     "name": "#%%\n"
    }
   }
  },
  {
   "cell_type": "code",
   "execution_count": 10,
   "outputs": [
    {
     "data": {
      "text/plain": "3.0"
     },
     "execution_count": 10,
     "metadata": {},
     "output_type": "execute_result"
    }
   ],
   "source": [
    "reviews[0].score"
   ],
   "metadata": {
    "collapsed": false,
    "pycharm": {
     "name": "#%%\n"
    }
   }
  },
  {
   "cell_type": "code",
   "execution_count": 29,
   "outputs": [
    {
     "data": {
      "text/plain": "30000"
     },
     "execution_count": 29,
     "metadata": {},
     "output_type": "execute_result"
    }
   ],
   "source": [
    "len(reviews)"
   ],
   "metadata": {
    "collapsed": false,
    "pycharm": {
     "name": "#%%\n"
    }
   }
  },
  {
   "cell_type": "code",
   "execution_count": 38,
   "outputs": [],
   "source": [
    "from sklearn.model_selection import train_test_split\n",
    "\n",
    "training_data, test_data = train_test_split(reviews, test_size=0.33, random_state=42)"
   ],
   "metadata": {
    "collapsed": false,
    "pycharm": {
     "name": "#%%\n"
    }
   }
  },
  {
   "cell_type": "code",
   "execution_count": 31,
   "outputs": [
    {
     "data": {
      "text/plain": "20100"
     },
     "execution_count": 31,
     "metadata": {},
     "output_type": "execute_result"
    }
   ],
   "source": [
    "len(training_data)"
   ],
   "metadata": {
    "collapsed": false,
    "pycharm": {
     "name": "#%%\n"
    }
   }
  },
  {
   "cell_type": "code",
   "execution_count": 32,
   "outputs": [
    {
     "data": {
      "text/plain": "9900"
     },
     "execution_count": 32,
     "metadata": {},
     "output_type": "execute_result"
    }
   ],
   "source": [
    "len(test_data)"
   ],
   "metadata": {
    "collapsed": false,
    "pycharm": {
     "name": "#%%\n"
    }
   }
  },
  {
   "cell_type": "code",
   "execution_count": 39,
   "outputs": [],
   "source": [
    "train_x = [review.text for review in training_data]\n",
    "train_y = [review.sentiment for review in training_data]\n",
    "\n",
    "test_x = [review.text for review in test_data]\n",
    "test_y = [review.sentiment for review in test_data]"
   ],
   "metadata": {
    "collapsed": false,
    "pycharm": {
     "name": "#%%\n"
    }
   }
  },
  {
   "cell_type": "code",
   "execution_count": 40,
   "outputs": [],
   "source": [
    "from sklearn.feature_extraction.text import CountVectorizer\n",
    "\n",
    "vectorizer = CountVectorizer(ngram_range=(1, 3))\n",
    "train_x_vectors = vectorizer.fit_transform(train_x)"
   ],
   "metadata": {
    "collapsed": false,
    "pycharm": {
     "name": "#%%\n"
    }
   }
  },
  {
   "cell_type": "code",
   "execution_count": 41,
   "outputs": [
    {
     "data": {
      "text/plain": "SVC(kernel='linear')"
     },
     "execution_count": 41,
     "metadata": {},
     "output_type": "execute_result"
    }
   ],
   "source": [
    "from sklearn.svm import SVC\n",
    "\n",
    "clf_svm = SVC(kernel='linear')\n",
    "clf_svm.fit(train_x_vectors, train_y)"
   ],
   "metadata": {
    "collapsed": false,
    "pycharm": {
     "name": "#%%\n"
    }
   }
  },
  {
   "cell_type": "code",
   "execution_count": 42,
   "outputs": [
    {
     "name": "stdout",
     "output_type": "stream",
     "text": [
      "The result is: 0.8109090909090909\n"
     ]
    }
   ],
   "source": [
    "test_x_vectors = vectorizer.transform(test_x)\n",
    "\n",
    "print('The result is:', clf_svm.score(test_x_vectors, test_y))"
   ],
   "metadata": {
    "collapsed": false,
    "pycharm": {
     "name": "#%%\n"
    }
   }
  },
  {
   "cell_type": "code",
   "execution_count": 43,
   "outputs": [
    {
     "data": {
      "text/plain": "LogisticRegression(max_iter=1000)"
     },
     "execution_count": 43,
     "metadata": {},
     "output_type": "execute_result"
    }
   ],
   "source": [
    "from sklearn.linear_model import LogisticRegression\n",
    "\n",
    "clf_log = LogisticRegression(max_iter=1000)\n",
    "clf_log.fit(train_x_vectors, train_y)"
   ],
   "metadata": {
    "collapsed": false,
    "pycharm": {
     "name": "#%%\n"
    }
   }
  },
  {
   "cell_type": "code",
   "execution_count": 44,
   "outputs": [
    {
     "name": "stdout",
     "output_type": "stream",
     "text": [
      "The result is: 0.8181818181818182\n"
     ]
    }
   ],
   "source": [
    "print('The result is:', clf_log.score(test_x_vectors, test_y))"
   ],
   "metadata": {
    "collapsed": false,
    "pycharm": {
     "name": "#%%\n"
    }
   }
  },
  {
   "cell_type": "code",
   "execution_count": null,
   "outputs": [],
   "source": [],
   "metadata": {
    "collapsed": false,
    "pycharm": {
     "name": "#%%\n"
    }
   }
  }
 ],
 "metadata": {
  "kernelspec": {
   "display_name": "Python 3",
   "language": "python",
   "name": "python3"
  },
  "language_info": {
   "codemirror_mode": {
    "name": "ipython",
    "version": 2
   },
   "file_extension": ".py",
   "mimetype": "text/x-python",
   "name": "python",
   "nbconvert_exporter": "python",
   "pygments_lexer": "ipython2",
   "version": "2.7.6"
  }
 },
 "nbformat": 4,
 "nbformat_minor": 0
}